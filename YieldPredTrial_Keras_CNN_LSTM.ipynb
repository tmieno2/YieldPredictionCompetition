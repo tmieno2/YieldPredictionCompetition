{
 "cells": [
  {
   "cell_type": "markdown",
   "id": "6747b1bc",
   "metadata": {},
   "source": [
    "# Dataset\n",
    "\n",
    "1. **inputs_weather_train.npy**: For each record, daily weather data - a total of 214 days spanning the crop growing season (defined April 1 through October 31). Daily weather records were compiled based on the nearest grid point from a gridded 30km product. Each day is represented by the following 7 weather variables - \n",
    "- Average Direct Normal Irradiance (ADNI)\n",
    "- Average Precipitation (AP)\n",
    "- Average Relative Humidity (ARH)\n",
    "- Maximum Direct Normal Irradiance (MDNI)\n",
    "- Maximum Surface Temperature (MaxSur)\n",
    "- Minimum Surface Temperature (MinSur)\n",
    "- Average Surface Temperature (AvgSur)\n",
    "\n",
    "2. **inputs_others_train.npy**: Maturity Group (MG), Genotype ID, State, Year, and Location for each performance record.\n",
    "\n",
    "3. **yield_train.npy**: Yearly crop yield value for each record.\n",
    "\n",
    "We provide genotype clustering information in clusterID_genotype.npy. The file contains cluster ID for each of the 5839 genotypes. Participants may or may not use this information. We developed a completely connected pedigree for all lines with available parentage information, resulting in the formation of a 5839 x 5839 correlation matrix. \n",
    "\n",
    "**Feel free to use external datasets for the competition**. For the reproducibility of the results and prize money distribution, the top three teams must provide the open-source code and any external datasets used for the competition."
   ]
  },
  {
   "cell_type": "code",
   "execution_count": 1,
   "id": "dff4440c",
   "metadata": {},
   "outputs": [
    {
     "name": "stdout",
     "output_type": "stream",
     "text": [
      "2.6.0\n",
      "[PhysicalDevice(name='/physical_device:GPU:0', device_type='GPU')]\n"
     ]
    }
   ],
   "source": [
    "import numpy as np\n",
    "import pandas as pd\n",
    "pd.options.mode.chained_assignment = None  # default='warn'\n",
    "\n",
    "from sklearn.model_selection import train_test_split\n",
    "from matplotlib import pyplot as plt\n",
    "from sklearn.metrics import r2_score, mean_squared_error, mean_absolute_error\n",
    "\n",
    "from numpy.random import seed\n",
    "from sklearn.preprocessing import StandardScaler, MinMaxScaler\n",
    "\n",
    "import graphviz\n",
    "from datetime import date\n",
    "import time\n",
    "import pyreadr\n",
    "\n",
    "import os\n",
    "import math\n",
    "from math import sqrt\n",
    "\n",
    "# Tensorflow and Keras\n",
    "from keras.layers import Concatenate, Input, LSTM, Dense\n",
    "from keras.layers import Dropout, Flatten, Reshape, Conv1D, MaxPooling1D\n",
    "from tensorflow.keras.optimizers import Adam\n",
    "from keras.models import Model\n",
    "from keras.activations import softmax\n",
    "from keras.callbacks import EarlyStopping\n",
    "\n",
    "import tensorflow as tf\n",
    "from keras import backend as K\n",
    "\n",
    "print(tf.__version__) # 2.6.0\n",
    "print(tf.config.list_physical_devices('GPU'))"
   ]
  },
  {
   "cell_type": "markdown",
   "id": "6715c225",
   "metadata": {},
   "source": [
    "# Load data"
   ]
  },
  {
   "cell_type": "code",
   "execution_count": 2,
   "id": "ef93c5f7",
   "metadata": {},
   "outputs": [],
   "source": [
    "Y = np.load('./Dataset_Competition/Training/yield_train.npy')\n",
    "Weather_train = np.load('./Dataset_Competition/Training/inputs_weather_train.npy')\n",
    "ClusterID = np.load('./Dataset_Competition/clusterID_genotype.npy')\n",
    "\n",
    "# Extract MG\n",
    "df_train = np.load('./Dataset_Competition/Training/inputs_others_train.npy')\n",
    "df_train = pd.DataFrame(df_train, columns=('MG', 'Genotype', 'State', 'Year', 'Site'))\n",
    "MG = df_train['MG'].astype('category')\n",
    "MG = MG.to_numpy()\n",
    "MG = MG.reshape(-1,1)\n",
    "scaler_MG = MinMaxScaler(feature_range = (0, 1)).fit(MG)\n",
    "MG = scaler_MG.transform(MG)\n",
    "tileMG = np.tile(MG, 214)\n",
    "\n",
    "# Transform Genotype into ClusterID, and stack with MG\n",
    "# Genotype = df_train['Genotype'].astype('category')\n",
    "# Genotype = Genotype.to_numpy()\n",
    "# K = np.empty(len(Genotype))\n",
    "# for i in range(len(ClusterID)):\n",
    "#     K[Genotype==i] = ClusterID[i]\n",
    "# K = K.reshape(-1,1)\n",
    "# MG = np.hstack([MG, K])\n",
    "\n",
    "# Standardization prcess\n",
    "scaler_x0 = MinMaxScaler(feature_range = (0, 1)).fit(Weather_train[:,:,0])\n",
    "scaled_x0 = scaler_x0.transform(Weather_train[:,:,0])\n",
    "scaler_x1 = MinMaxScaler(feature_range = (0, 1)).fit(Weather_train[:,:,1])\n",
    "scaled_x1 = scaler_x1.transform(Weather_train[:,:,1])\n",
    "scaler_x2 = MinMaxScaler(feature_range = (0, 1)).fit(Weather_train[:,:,2])\n",
    "scaled_x2 = scaler_x2.transform(Weather_train[:,:,2])\n",
    "scaler_x3 = MinMaxScaler(feature_range = (0, 1)).fit(Weather_train[:,:,3])\n",
    "scaled_x3 = scaler_x3.transform(Weather_train[:,:,3])\n",
    "scaler_x4 = MinMaxScaler(feature_range = (0, 1)).fit(Weather_train[:,:,4])\n",
    "scaled_x4 = scaler_x4.transform(Weather_train[:,:,4])\n",
    "scaler_x5 = MinMaxScaler(feature_range = (0, 1)).fit(Weather_train[:,:,5])\n",
    "scaled_x5 = scaler_x5.transform(Weather_train[:,:,5])\n",
    "scaler_x6 = MinMaxScaler(feature_range = (0, 1)).fit(Weather_train[:,:,6])\n",
    "scaled_x6 = scaler_x6.transform(Weather_train[:,:,6])\n",
    "# X = np.dstack([scaled_x0, scaled_x1, scaled_x2, scaled_x3, scaled_x4, scaled_x5, scaled_x6])\n",
    "X = np.dstack([scaled_x0, scaled_x1, scaled_x2, scaled_x3, scaled_x4, scaled_x5, scaled_x6, tileMG])\n",
    "\n",
    "Y = Y.reshape(-1,1)\n",
    "scaler_Y = MinMaxScaler(feature_range = (0, 1)).fit(Y)\n",
    "Y = scaler_Y.transform(Y)\n",
    "\n",
    "# Trancation\n",
    "# X = X[:,np.arange(0,214,7),:] \n",
    "\n",
    "#####################################\n",
    "# Load training and validation data #\n",
    "#####################################\n",
    "# 10% is test, 10% is val, 80% is training\n",
    "seed(888)\n",
    "X_train, X_val = train_test_split(X, test_size=0.2, shuffle=True, random_state=888)\n",
    "X_val, X_test = train_test_split(X_val, test_size=0.5, shuffle=True, random_state=888)\n",
    "\n",
    "Y_train, Y_val = train_test_split(Y, test_size=0.2, shuffle=True, random_state=888)\n",
    "Y_val, Y_test = train_test_split(Y_val, test_size=0.5, shuffle=True, random_state=888)\n",
    "\n",
    "MG_train, MG_val = train_test_split(MG, test_size=0.2, shuffle=True, random_state=888)\n",
    "MG_val, MG_test = train_test_split(MG_val, test_size=0.5, shuffle=True, random_state=888)\n",
    "\n",
    "##################\n",
    "# Load test data #\n",
    "##################\n",
    "'''\n",
    "Remind that values should be standardized\n",
    "'''\n",
    "\n",
    "# Transform into tensor\n",
    "X_train = X_train.astype('float')\n",
    "X_val = X_val.astype('float')\n",
    "X_test = X_test.astype('float')\n",
    "\n",
    "MG_train = MG_train.astype('float')\n",
    "MG_val = MG_val.astype('float')\n",
    "MG_test = MG_test.astype('float')"
   ]
  },
  {
   "cell_type": "code",
   "execution_count": 3,
   "id": "f83e0ef5",
   "metadata": {},
   "outputs": [
    {
     "name": "stdout",
     "output_type": "stream",
     "text": [
      "(93028, 214, 8)\n",
      "(74422, 214, 8)\n",
      "(9303, 214, 8)\n",
      "(9303, 214, 8)\n"
     ]
    }
   ],
   "source": [
    "print(X.shape)\n",
    "print(X_train.shape)\n",
    "print(X_val.shape)\n",
    "print(X_test.shape)"
   ]
  },
  {
   "cell_type": "markdown",
   "id": "abfc5f2c",
   "metadata": {},
   "source": [
    "# CNN LSTM\n",
    "X (weather data) is not treated as indepedent inputs"
   ]
  },
  {
   "cell_type": "markdown",
   "id": "4b6eb951",
   "metadata": {},
   "source": [
    "# Define function"
   ]
  },
  {
   "cell_type": "code",
   "execution_count": null,
   "id": "9a2997fa",
   "metadata": {},
   "outputs": [],
   "source": []
  },
  {
   "cell_type": "code",
   "execution_count": 4,
   "id": "829ac872",
   "metadata": {},
   "outputs": [],
   "source": [
    "Tx = X_train.shape[1] # 214 days\n",
    "var_ts = X_train.shape[2] # Weather(7), MG\n",
    "var_concat = 1 # MG\n",
    "\n",
    "kernel_size1 = 7\n",
    "kernel_size2 = 3\n",
    "\n",
    "filters1 = 32\n",
    "filters2 = 64\n",
    "\n",
    "h_s = 128   # {32, 64, 96, 128, 256}\n",
    "dropout = 0.2  \n",
    "batch_size = 512  \n",
    "epochs = 500  # 100\n",
    "lr_rate = 0.001   # (0.001, 3e-4, 5e-4)\n",
    "con_dim = 2   # (1, 2, 4, 8, 16) # Reduction in dimension of the temporal context to con_dim before concat with MG, Cluster"
   ]
  },
  {
   "cell_type": "markdown",
   "id": "a5f71e62",
   "metadata": {},
   "source": [
    "# Model Architecture (LSTM)"
   ]
  },
  {
   "cell_type": "code",
   "execution_count": 5,
   "id": "fb1f4048",
   "metadata": {},
   "outputs": [],
   "source": [
    "concatenator = Concatenate(axis=-1)\n",
    "\n",
    "def model(Tx, var_ts, var_concat, kernel_size1, kernel_size2, filters1, filters2, h_s, dropout):\n",
    "    \n",
    "    # Tx : Number of input timesteps\n",
    "    # var_ts: Number of input variables\n",
    "    # h_s: Hidden State Dimensions for Encoder, Decoder\n",
    "    encoder_input = Input(shape = (Tx, var_ts))   # (None, 30, 9)\n",
    "    mg_cluster_input = Input(shape = (var_concat, ))   # (None, 2)\n",
    "    \n",
    "    \n",
    "    conv1 = Conv1D(filters=filters1, kernel_size=kernel_size1, strides=1, padding=\"causal\", activation=\"relu\")(encoder_input)\n",
    "    conv1 = MaxPooling1D(pool_size=2)(conv1)\n",
    "    conv1 = Conv1D(filters=filters2, kernel_size=kernel_size2, strides=1, padding=\"causal\", activation=\"relu\")(conv1)\n",
    "    conv1 = MaxPooling1D(pool_size=2)(conv1)\n",
    "#     conv1 = Conv1D(filters=64, kernel_size=3, strides=1, padding=\"causal\", activation=\"relu\")(conv1)\n",
    "#     conv1 = MaxPooling1D(pool_size=2)(conv1)\n",
    "    \n",
    "    # Encoder LSTM\n",
    "    lstm_1, state_h, state_c = LSTM(h_s, return_state=True, return_sequences=True)(conv1)\n",
    "    lstm_1 = Dropout (dropout)(lstm_1)     # (None, 30, 128)\n",
    "    \n",
    "    lstm_2, state_h, state_c = LSTM(h_s, return_state=True, return_sequences=False)(lstm_1)\n",
    "    lstm_2 = Dropout (dropout)(lstm_2)     # (None, 128)\n",
    "    \n",
    "    # Dimension Reduction\n",
    "    lstm_2 = Dense(con_dim, activation = \"relu\")(lstm_2)   # (None, 1)\n",
    "    \n",
    "    # Concatenate\n",
    "    context = concatenator([lstm_2, mg_cluster_input])   # (None, 3)\n",
    "    \n",
    "    # FC Layer\n",
    "    yhat = Dense (1, activation = \"linear\")(context)   # (None, 1)\n",
    "        \n",
    "    pred_model = Model([encoder_input, mg_cluster_input], yhat)   # Prediction Model\n",
    "        \n",
    "    return pred_model"
   ]
  },
  {
   "cell_type": "markdown",
   "id": "e1f531a1",
   "metadata": {},
   "source": [
    "# Visualiza model architechture"
   ]
  },
  {
   "cell_type": "code",
   "execution_count": 6,
   "id": "a7df7993",
   "metadata": {},
   "outputs": [
    {
     "name": "stdout",
     "output_type": "stream",
     "text": [
      "Model: \"model\"\n",
      "__________________________________________________________________________________________________\n",
      "Layer (type)                    Output Shape         Param #     Connected to                     \n",
      "==================================================================================================\n",
      "input_1 (InputLayer)            [(None, 214, 8)]     0                                            \n",
      "__________________________________________________________________________________________________\n",
      "conv1d (Conv1D)                 (None, 214, 32)      1824        input_1[0][0]                    \n",
      "__________________________________________________________________________________________________\n",
      "max_pooling1d (MaxPooling1D)    (None, 107, 32)      0           conv1d[0][0]                     \n",
      "__________________________________________________________________________________________________\n",
      "conv1d_1 (Conv1D)               (None, 107, 64)      6208        max_pooling1d[0][0]              \n",
      "__________________________________________________________________________________________________\n",
      "max_pooling1d_1 (MaxPooling1D)  (None, 53, 64)       0           conv1d_1[0][0]                   \n",
      "__________________________________________________________________________________________________\n",
      "lstm (LSTM)                     [(None, 53, 128), (N 98816       max_pooling1d_1[0][0]            \n",
      "__________________________________________________________________________________________________\n",
      "dropout (Dropout)               (None, 53, 128)      0           lstm[0][0]                       \n",
      "__________________________________________________________________________________________________\n",
      "lstm_1 (LSTM)                   [(None, 128), (None, 131584      dropout[0][0]                    \n",
      "__________________________________________________________________________________________________\n",
      "dropout_1 (Dropout)             (None, 128)          0           lstm_1[0][0]                     \n",
      "__________________________________________________________________________________________________\n",
      "dense (Dense)                   (None, 2)            258         dropout_1[0][0]                  \n",
      "__________________________________________________________________________________________________\n",
      "input_2 (InputLayer)            [(None, 1)]          0                                            \n",
      "__________________________________________________________________________________________________\n",
      "concatenate (Concatenate)       (None, 3)            0           dense[0][0]                      \n",
      "                                                                 input_2[0][0]                    \n",
      "__________________________________________________________________________________________________\n",
      "dense_1 (Dense)                 (None, 1)            4           concatenate[0][0]                \n",
      "==================================================================================================\n",
      "Total params: 238,694\n",
      "Trainable params: 238,694\n",
      "Non-trainable params: 0\n",
      "__________________________________________________________________________________________________\n"
     ]
    }
   ],
   "source": [
    "# Model Summary\n",
    "pred_model = model(Tx, var_ts, var_concat, kernel_size1, kernel_size2, filters1, filters2, h_s, dropout)\n",
    "pred_model.summary()"
   ]
  },
  {
   "cell_type": "markdown",
   "id": "29fa9601",
   "metadata": {},
   "source": [
    "## Train process"
   ]
  },
  {
   "cell_type": "code",
   "execution_count": 7,
   "id": "70ed5445",
   "metadata": {},
   "outputs": [
    {
     "name": "stdout",
     "output_type": "stream",
     "text": [
      "Epoch 1/500\n",
      "146/146 - 38s - loss: 0.0564 - val_loss: 0.0472\n",
      "Epoch 2/500\n",
      "146/146 - 6s - loss: 0.0416 - val_loss: 0.0360\n",
      "Epoch 3/500\n",
      "146/146 - 6s - loss: 0.0325 - val_loss: 0.0290\n",
      "Epoch 4/500\n",
      "146/146 - 6s - loss: 0.0269 - val_loss: 0.0248\n",
      "Epoch 5/500\n",
      "146/146 - 6s - loss: 0.0235 - val_loss: 0.0225\n",
      "Epoch 6/500\n",
      "146/146 - 6s - loss: 0.0217 - val_loss: 0.0212\n",
      "Epoch 7/500\n",
      "146/146 - 7s - loss: 0.0208 - val_loss: 0.0206\n",
      "Epoch 8/500\n",
      "146/146 - 7s - loss: 0.0203 - val_loss: 0.0204\n",
      "Epoch 9/500\n",
      "146/146 - 6s - loss: 0.0202 - val_loss: 0.0203\n",
      "Epoch 10/500\n",
      "146/146 - 6s - loss: 0.0201 - val_loss: 0.0202\n",
      "Epoch 11/500\n",
      "146/146 - 6s - loss: 0.0201 - val_loss: 0.0202\n",
      "Epoch 12/500\n",
      "146/146 - 6s - loss: 0.0201 - val_loss: 0.0202\n",
      "Epoch 13/500\n",
      "146/146 - 6s - loss: 0.0200 - val_loss: 0.0202\n",
      "Epoch 14/500\n",
      "146/146 - 7s - loss: 0.0200 - val_loss: 0.0202\n",
      "Epoch 15/500\n",
      "146/146 - 7s - loss: 0.0200 - val_loss: 0.0203\n",
      "Epoch 16/500\n",
      "146/146 - 6s - loss: 0.0200 - val_loss: 0.0202\n",
      "Epoch 17/500\n",
      "146/146 - 6s - loss: 0.0201 - val_loss: 0.0203\n",
      "Epoch 18/500\n",
      "146/146 - 7s - loss: 0.0201 - val_loss: 0.0202\n",
      "Epoch 19/500\n",
      "146/146 - 6s - loss: 0.0200 - val_loss: 0.0202\n",
      "Epoch 20/500\n",
      "146/146 - 6s - loss: 0.0200 - val_loss: 0.0203\n",
      "Epoch 21/500\n",
      "146/146 - 6s - loss: 0.0201 - val_loss: 0.0202\n",
      "Epoch 22/500\n",
      "146/146 - 6s - loss: 0.0201 - val_loss: 0.0202\n",
      "Epoch 23/500\n",
      "146/146 - 6s - loss: 0.0201 - val_loss: 0.0202\n",
      "Epoch 24/500\n",
      "146/146 - 6s - loss: 0.0201 - val_loss: 0.0202\n",
      "Epoch 25/500\n",
      "146/146 - 6s - loss: 0.0200 - val_loss: 0.0203\n",
      "Epoch 26/500\n",
      "146/146 - 7s - loss: 0.0201 - val_loss: 0.0202\n",
      "Epoch 27/500\n",
      "146/146 - 6s - loss: 0.0201 - val_loss: 0.0202\n",
      "Epoch 28/500\n",
      "146/146 - 6s - loss: 0.0201 - val_loss: 0.0202\n",
      "Epoch 29/500\n",
      "146/146 - 7s - loss: 0.0200 - val_loss: 0.0202\n",
      "Epoch 30/500\n",
      "146/146 - 6s - loss: 0.0201 - val_loss: 0.0203\n",
      "Epoch 31/500\n",
      "146/146 - 6s - loss: 0.0201 - val_loss: 0.0202\n",
      "Epoch 32/500\n",
      "146/146 - 6s - loss: 0.0201 - val_loss: 0.0202\n"
     ]
    },
    {
     "name": "stderr",
     "output_type": "stream",
     "text": [
      "WARNING:absl:Found untraced functions such as lstm_cell_layer_call_fn, lstm_cell_layer_call_and_return_conditional_losses, lstm_cell_1_layer_call_fn, lstm_cell_1_layer_call_and_return_conditional_losses, lstm_cell_layer_call_fn while saving (showing 5 of 10). These functions will not be directly callable after loading.\n"
     ]
    },
    {
     "name": "stdout",
     "output_type": "stream",
     "text": [
      "INFO:tensorflow:Assets written to: ./model_keras/CNN_LSTM_BestKerasModel\\assets\n"
     ]
    },
    {
     "name": "stderr",
     "output_type": "stream",
     "text": [
      "INFO:tensorflow:Assets written to: ./model_keras/CNN_LSTM_BestKerasModel\\assets\n"
     ]
    }
   ],
   "source": [
    "# Train Model\n",
    "tf.random.set_seed(12345) # For reproducibility\n",
    "\n",
    "pred_model.compile(loss='mean_squared_error', optimizer = Adam(learning_rate=lr_rate)) \n",
    "\n",
    "early_stopping =  EarlyStopping(\n",
    "                            monitor='val_loss',\n",
    "                            min_delta=0.0,\n",
    "                            patience=20,\n",
    ")\n",
    "\n",
    "hist = pred_model.fit ([X_train,MG_train], Y_train,\n",
    "                       batch_size = batch_size,\n",
    "                       epochs = epochs,\n",
    "                       verbose = 2,\n",
    "                       shuffle = True,\n",
    "                       validation_data=([X_val, MG_val], Y_val),\n",
    "                       callbacks=[early_stopping])\n",
    "\n",
    "filepath = './model_keras/CNN_LSTM_BestKerasModel'\n",
    "tf.keras.models.save_model(pred_model, filepath)"
   ]
  },
  {
   "cell_type": "code",
   "execution_count": 8,
   "id": "2f6aee10",
   "metadata": {},
   "outputs": [
    {
     "data": {
      "text/plain": [
       "<matplotlib.legend.Legend at 0x28509764988>"
      ]
     },
     "execution_count": 8,
     "metadata": {},
     "output_type": "execute_result"
    },
    {
     "data": {
      "image/png": "[encoded data removed]",
      "text/plain": [
       "<Figure size 432x288 with 1 Axes>"
      ]
     },
     "metadata": {
      "needs_background": "light"
     },
     "output_type": "display_data"
    }
   ],
   "source": [
    "# Plot\n",
    "loss = hist.history['loss']\n",
    "val_loss = hist.history['val_loss']\n",
    "\n",
    "plt.plot(loss)\n",
    "plt.plot(val_loss)\n",
    "plt.title('Model Loss')\n",
    "plt.ylabel('Loss')\n",
    "plt.xlabel('Epoch')\n",
    "plt.legend(['Training Set', 'Validation Set'], loc='upper right')\n",
    "# plt.savefig('%s/loss_plot.png'%(dir_))\n",
    "# print(\"Saved loss plot to disk\") \n",
    "# plt.close()"
   ]
  },
  {
   "cell_type": "markdown",
   "id": "46f49edd",
   "metadata": {},
   "source": [
    "# Check the best model"
   ]
  },
  {
   "cell_type": "code",
   "execution_count": 9,
   "id": "1ded2450",
   "metadata": {},
   "outputs": [
    {
     "name": "stdout",
     "output_type": "stream",
     "text": [
      "Train\n"
     ]
    },
    {
     "data": {
      "image/png": "[encoded data removed]",
      "text/plain": [
       "<Figure size 360x360 with 1 Axes>"
      ]
     },
     "metadata": {
      "needs_background": "light"
     },
     "output_type": "display_data"
    },
    {
     "name": "stdout",
     "output_type": "stream",
     "text": [
      "Validation\n"
     ]
    },
    {
     "data": {
      "image/png": "[encoded data removed]",
      "text/plain": [
       "<Figure size 360x360 with 1 Axes>"
      ]
     },
     "metadata": {
      "needs_background": "light"
     },
     "output_type": "display_data"
    },
    {
     "name": "stdout",
     "output_type": "stream",
     "text": [
      "Test\n"
     ]
    },
    {
     "data": {
      "image/png": "[encoded data removed]",
      "text/plain": [
       "<Figure size 360x360 with 1 Axes>"
      ]
     },
     "metadata": {
      "needs_background": "light"
     },
     "output_type": "display_data"
    },
    {
     "name": "stdout",
     "output_type": "stream",
     "text": [
      "Train RMSE: 15.86\n",
      "Train MAE: 12.69\n",
      "Train R2: 0.010\n",
      "Validation RMSE: 15.93\n",
      "Validation MAE: 12.82\n",
      "Validation R2: 0.008\n",
      "Test RMSE: 15.99\n",
      "Test MAE: 12.82\n",
      "Test R2: 0.006\n"
     ]
    }
   ],
   "source": [
    "# Load model should be revised for keras\n",
    "reconstructed_model  = tf.keras.models.load_model(filepath)\n",
    "\n",
    "pred_train = reconstructed_model.predict([X_train, MG_train], batch_size = batch_size)\n",
    "pred_val = reconstructed_model.predict([X_val, MG_val], batch_size = batch_size)\n",
    "pred_test = reconstructed_model.predict([X_test, MG_test], batch_size = batch_size)\n",
    "\n",
    "# Inverse transform\n",
    "pred_train = scaler_Y.inverse_transform(pred_train)\n",
    "pred_val = scaler_Y.inverse_transform(pred_val)\n",
    "pred_test = scaler_Y.inverse_transform(pred_test)\n",
    "\n",
    "inv_Y_train = scaler_Y.inverse_transform(Y_train)\n",
    "inv_Y_val = scaler_Y.inverse_transform(Y_val)\n",
    "inv_Y_test = scaler_Y.inverse_transform(Y_test)\n",
    "            \n",
    "# Plotting model results\n",
    "print(\"Train\")\n",
    "plt.figure(figsize=(5,5))\n",
    "plt.scatter(inv_Y_train, pred_train, alpha=0.3) \n",
    "plt.xlabel('Observed') \n",
    "plt.ylabel('Predicted')\n",
    "x = np.arange(0.9*min(inv_Y_train).item(), 1.1*max(inv_Y_train).item(), 0.1)\n",
    "y = x\n",
    "plt.plot(x, y,\"r-\")   \n",
    "plt.grid()\n",
    "plt.show()\n",
    "\n",
    "print(\"Validation\")\n",
    "plt.figure(figsize=(5,5))\n",
    "plt.scatter(inv_Y_val, pred_val, alpha=0.3) \n",
    "plt.xlabel('Observed') \n",
    "plt.ylabel('Predicted')\n",
    "x = np.arange(0.9*min(inv_Y_val).item(), 1.1*max(inv_Y_val).item(), 0.1)\n",
    "y = x\n",
    "plt.plot(x, y,\"r-\")   \n",
    "plt.grid()\n",
    "plt.show()\n",
    "\n",
    "print(\"Test\")\n",
    "plt.figure(figsize=(5,5))\n",
    "plt.scatter(inv_Y_test, pred_test, alpha=0.3) \n",
    "plt.xlabel('Observed') \n",
    "plt.ylabel('Predicted')\n",
    "x = np.arange(0.9*min(inv_Y_test).item(), 1.1*max(inv_Y_test).item(), 0.1)\n",
    "y = x\n",
    "plt.plot(x, y,\"r-\")   \n",
    "plt.grid()\n",
    "plt.show()\n",
    "\n",
    "print(\"Train RMSE: %.2f\" % (np.sqrt(mean_squared_error(inv_Y_train, pred_train))))\n",
    "print(\"Train MAE: %.2f\" % (mean_absolute_error(inv_Y_train, pred_train)))\n",
    "print(\"Train R2: %.3f\" % (r2_score(inv_Y_train, pred_train)))\n",
    "\n",
    "print(\"Validation RMSE: %.2f\" % (np.sqrt(mean_squared_error(inv_Y_val, pred_val))))\n",
    "print(\"Validation MAE: %.2f\" % (mean_absolute_error(inv_Y_val, pred_val)))\n",
    "print(\"Validation R2: %.3f\" % (r2_score(inv_Y_val, pred_val)))\n",
    "\n",
    "print(\"Test RMSE: %.2f\" % (np.sqrt(mean_squared_error(inv_Y_test, pred_test))))\n",
    "print(\"Test MAE: %.2f\" % (mean_absolute_error(inv_Y_test, pred_test)))\n",
    "print(\"Test R2: %.3f\" % (r2_score(inv_Y_test, pred_test)))"
   ]
  },
  {
   "cell_type": "code",
   "execution_count": null,
   "id": "0006c351",
   "metadata": {},
   "outputs": [],
   "source": []
  },
  {
   "cell_type": "code",
   "execution_count": null,
   "id": "ce3af775",
   "metadata": {},
   "outputs": [],
   "source": []
  },
  {
   "cell_type": "code",
   "execution_count": null,
   "id": "37a39716",
   "metadata": {},
   "outputs": [],
   "source": []
  },
  {
   "cell_type": "code",
   "execution_count": null,
   "id": "49c196e0",
   "metadata": {},
   "outputs": [],
   "source": []
  }
 ],
 "metadata": {
  "kernelspec": {
   "display_name": "Python 3 (ipykernel)",
   "language": "python",
   "name": "python3"
  },
  "language_info": {
   "codemirror_mode": {
    "name": "ipython",
    "version": 3
   },
   "file_extension": ".py",
   "mimetype": "text/x-python",
   "name": "python",
   "nbconvert_exporter": "python",
   "pygments_lexer": "ipython3",
   "version": "3.7.6"
  }
 },
 "nbformat": 4,
 "nbformat_minor": 5
}
