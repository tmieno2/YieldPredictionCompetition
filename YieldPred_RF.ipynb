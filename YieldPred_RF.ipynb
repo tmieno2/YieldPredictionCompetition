{
 "cells": [
  {
   "cell_type": "markdown",
   "id": "b1cbadb9",
   "metadata": {},
   "source": [
    "# Dataset\n",
    "\n",
    "1. **inputs_weather_train.npy**: For each record, daily weather data - a total of 214 days spanning the crop growing season (defined April 1 through October 31). Daily weather records were compiled based on the nearest grid point from a gridded 30km product. Each day is represented by the following 7 weather variables - \n",
    "- Average Direct Normal Irradiance (ADNI)\n",
    "- Average Precipitation (AP)\n",
    "- Average Relative Humidity (ARH)\n",
    "- Maximum Direct Normal Irradiance (MDNI)\n",
    "- Maximum Surface Temperature (MaxSur)\n",
    "- Minimum Surface Temperature (MinSur)\n",
    "- Average Surface Temperature (AvgSur)\n",
    "\n",
    "2. **inputs_others_train.npy**: Maturity Group (MG), Genotype ID, State, Year, and Location for each performance record.\n",
    "\n",
    "3. **yield_train.npy**: Yearly crop yield value for each record.\n",
    "\n",
    "We provide genotype clustering information in clusterID_genotype.npy. The file contains cluster ID for each of the 5839 genotypes. Participants may or may not use this information. We developed a completely connected pedigree for all lines with available parentage information, resulting in the formation of a 5839 x 5839 correlation matrix. \n",
    "\n",
    "**Feel free to use external datasets for the competition**. For the reproducibility of the results and prize money distribution, the top three teams must provide the open-source code and any external datasets used for the competition."
   ]
  },
  {
   "cell_type": "code",
   "execution_count": 1,
   "id": "ebd7e4ca",
   "metadata": {},
   "outputs": [],
   "source": [
    "import numpy as np\n",
    "import pandas as pd\n",
    "pd.options.mode.chained_assignment = None  # default='warn'\n",
    "\n",
    "from sklearn.model_selection import train_test_split\n",
    "from matplotlib import pyplot as plt\n",
    "from sklearn.metrics import r2_score, mean_squared_error, mean_absolute_error\n",
    "\n",
    "from numpy.random import seed\n",
    "from sklearn.preprocessing import StandardScaler, MinMaxScaler\n",
    "\n",
    "import graphviz\n",
    "from datetime import date\n",
    "import time\n",
    "import pyreadr\n",
    "\n",
    "import os\n",
    "\n",
    "import joblib"
   ]
  },
  {
   "cell_type": "markdown",
   "id": "49836a0b",
   "metadata": {},
   "source": [
    "# Load data"
   ]
  },
  {
   "cell_type": "code",
   "execution_count": 2,
   "id": "8319b437",
   "metadata": {},
   "outputs": [
    {
     "name": "stdout",
     "output_type": "stream",
     "text": [
      "(93028, 214, 7)\n",
      "(93028, 1498)\n"
     ]
    }
   ],
   "source": [
    "Y = np.load('./Dataset_Competition/Training/yield_train.npy')\n",
    "Weather_train = np.load('./Dataset_Competition/Training/inputs_weather_train.npy')\n",
    "ClusterID = np.load('./Dataset_Competition/clusterID_genotype.npy')\n",
    "\n",
    "# Extract MG\n",
    "df_train = np.load('./Dataset_Competition/Training/inputs_others_train.npy')\n",
    "df_train = pd.DataFrame(df_train, columns=('MG', 'Genotype', 'State', 'Year', 'Site'))\n",
    "MG = df_train['MG'].astype('category')\n",
    "MG = MG.to_numpy()\n",
    "MG = MG.reshape(-1,1)\n",
    "MG = MG.astype(float).astype(int)\n",
    "\n",
    "# Transform Genotype into ClusterID\n",
    "# Genotype = df_train['Genotype'].astype('category')\n",
    "# Genotype = Genotype.to_numpy()\n",
    "# Genotype = Genotype.astype(float).astype(int)\n",
    "# K = np.empty(len(Genotype))\n",
    "# for i in range(len(ClusterID)):\n",
    "#     K[Genotype==i] = ClusterID[i]\n",
    "# K = K.reshape(-1,1)\n",
    "# K = K.astype(int)\n",
    "\n",
    "# Standardization prcess\n",
    "scaler_x0 = MinMaxScaler(feature_range = (0, 1)).fit(Weather_train[:,:,0])\n",
    "scaled_x0 = scaler_x0.transform(Weather_train[:,:,0])\n",
    "scaler_x1 = MinMaxScaler(feature_range = (0, 1)).fit(Weather_train[:,:,1])\n",
    "scaled_x1 = scaler_x1.transform(Weather_train[:,:,1])\n",
    "scaler_x2 = MinMaxScaler(feature_range = (0, 1)).fit(Weather_train[:,:,2])\n",
    "scaled_x2 = scaler_x2.transform(Weather_train[:,:,2])\n",
    "scaler_x3 = MinMaxScaler(feature_range = (0, 1)).fit(Weather_train[:,:,3])\n",
    "scaled_x3 = scaler_x3.transform(Weather_train[:,:,3])\n",
    "scaler_x4 = MinMaxScaler(feature_range = (0, 1)).fit(Weather_train[:,:,4])\n",
    "scaled_x4 = scaler_x4.transform(Weather_train[:,:,4])\n",
    "scaler_x5 = MinMaxScaler(feature_range = (0, 1)).fit(Weather_train[:,:,5])\n",
    "scaled_x5 = scaler_x5.transform(Weather_train[:,:,5])\n",
    "scaler_x6 = MinMaxScaler(feature_range = (0, 1)).fit(Weather_train[:,:,6])\n",
    "scaled_x6 = scaler_x6.transform(Weather_train[:,:,6])\n",
    "X = np.dstack([scaled_x0, scaled_x1, scaled_x2, scaled_x3, scaled_x4, scaled_x5, scaled_x6])\n",
    "\n",
    "# Transform into series data\n",
    "print(X.shape)\n",
    "\n",
    "X = X.reshape((X.shape[0],X.shape[1]*X.shape[2]))\n",
    "\n",
    "print(X.shape)\n",
    "\n",
    "X = np.hstack((X, MG))\n",
    "# X = np.hstack((X, MG, K))\n",
    "\n",
    "#####################################\n",
    "# Load training and validation data #\n",
    "#####################################\n",
    "# 10% is test, 10% is val, 80% is training\n",
    "seed(888)\n",
    "X_train, X_val = train_test_split(X, test_size=0.2, shuffle=True, random_state=888)\n",
    "X_val, X_test = train_test_split(X_val, test_size=0.5, shuffle=True, random_state=888)\n",
    "\n",
    "Y_train, Y_val = train_test_split(Y, test_size=0.2, shuffle=True, random_state=888)\n",
    "Y_val, Y_test = train_test_split(Y_val, test_size=0.5, shuffle=True, random_state=888)\n",
    "\n",
    "##################\n",
    "# Load test data #\n",
    "##################\n",
    "'''\n",
    "Remind that values should be standardized\n",
    "'''\n",
    "df_test = np.load('./Dataset_Competition/Test Inputs/inputs_others_test.npy')\n",
    "df_test = pd.DataFrame(df_test, columns=('MG', 'Genotype', 'State', 'Year', 'Site'))"
   ]
  },
  {
   "cell_type": "code",
   "execution_count": 3,
   "id": "27186d9f",
   "metadata": {},
   "outputs": [
    {
     "name": "stdout",
     "output_type": "stream",
     "text": [
      "5838\n"
     ]
    },
    {
     "data": {
      "text/plain": [
       "array(['1.0', '10.0', '100.0', ..., '997.0', '998.0', '999.0'],\n",
       "      dtype=object)"
      ]
     },
     "execution_count": 3,
     "metadata": {},
     "output_type": "execute_result"
    }
   ],
   "source": [
    "# CHECK the number of genotypes, AFTER concatinating train and test\n",
    "df = pd.concat([df_train, df_test], axis=0)\n",
    "print(len(np.unique(df['Genotype'])))\n",
    "np.unique(df['Genotype'])"
   ]
  },
  {
   "cell_type": "markdown",
   "id": "caf9478b",
   "metadata": {},
   "source": [
    "# Random Forest Parameter Tuning - CV\n",
    "Repeated 10-fold CV for training dataset (Repeated for 3 times)\n",
    "\n",
    "- First trial (2021-09-27): \\\n",
    "Without ClusterID\\\n",
    "grid = [\n",
    "    {'n_estimators': [64, 128, 258, 512]},\n",
    "    {'max_features': [2, 4, 8, 16, 32, 64, 128]}\n",
    "] \\\n",
    "15024.463 seconds \\\n",
    "512\n",
    "\n",
    "\n",
    "- Second trial (2021-09-28): \\\n",
    "With ClusterID\\\n",
    "grid = [{'n_estimators': [128, 258, 512, 1024]}] \\\n",
    "31081.255 seconds \\\n",
    "1024\n"
   ]
  },
  {
   "cell_type": "code",
   "execution_count": 4,
   "id": "cc7d531e",
   "metadata": {},
   "outputs": [
    {
     "name": "stdout",
     "output_type": "stream",
     "text": [
      "36\n"
     ]
    }
   ],
   "source": [
    "import multiprocessing\n",
    "cpu_num = multiprocessing.cpu_count()\n",
    "print(cpu_num)\n",
    "\n",
    "from time import time\n",
    "from sklearn.model_selection import RepeatedKFold\n",
    "from sklearn.ensemble import RandomForestRegressor\n",
    "from sklearn.model_selection import GridSearchCV\n",
    "\n",
    "# define the model\n",
    "model = RandomForestRegressor(n_jobs=1)"
   ]
  },
  {
   "cell_type": "code",
   "execution_count": null,
   "id": "1eedaf5c",
   "metadata": {},
   "outputs": [],
   "source": [
    "# define the evaluation procedure\n",
    "cv = RepeatedKFold(n_splits=5, n_repeats=3, random_state=1)\n",
    "\n",
    "# define grid\n",
    "# grid = dict()\n",
    "# grid['max_features'] = [1, 2, 3, 4, 5]\n",
    "\n",
    "# 1st trial\n",
    "# grid = [\n",
    "#     {'n_estimators': [64, 128, 258, 512]},\n",
    "#     {'max_features': [2, 4, 8, 16, 32, 64, 128]}\n",
    "# ]\n",
    "\n",
    "grid = [\n",
    "    {'n_estimators': [258, 512, 1024, 2048]}\n",
    "]\n",
    "\n",
    "\n",
    "# define grid search\n",
    "search = GridSearchCV(model, grid, n_jobs=cpu_num, cv=cv)\n",
    "\n",
    "# record current time\n",
    "start = time()\n",
    "\n",
    "# perform search\n",
    "search.fit(X_train,Y_train)\n",
    "\n",
    "# record current time\n",
    "end = time()\n",
    "\n",
    "# report execution time\n",
    "result = end - start\n",
    "print('%.3f seconds' % result)"
   ]
  },
  {
   "cell_type": "code",
   "execution_count": null,
   "id": "913392aa",
   "metadata": {},
   "outputs": [],
   "source": [
    "# Best parameter\n",
    "search.best_params_"
   ]
  },
  {
   "cell_type": "code",
   "execution_count": null,
   "id": "05deb421",
   "metadata": {},
   "outputs": [],
   "source": [
    "# All scores\n",
    "search.set_params\n"
   ]
  },
  {
   "cell_type": "code",
   "execution_count": null,
   "id": "1ae44f69",
   "metadata": {},
   "outputs": [],
   "source": []
  },
  {
   "cell_type": "markdown",
   "id": "40742e1f",
   "metadata": {},
   "source": [
    "# Retrain the model using the optimized parameters"
   ]
  },
  {
   "cell_type": "code",
   "execution_count": 5,
   "id": "13215289",
   "metadata": {},
   "outputs": [
    {
     "data": {
      "text/plain": [
       "['./model_scikit/random_forest.joblib']"
      ]
     },
     "execution_count": 5,
     "metadata": {},
     "output_type": "execute_result"
    }
   ],
   "source": [
    "model = RandomForestRegressor(n_estimators=1024, n_jobs=18)\n",
    "model.fit(X_train,Y_train)\n",
    "joblib.dump(model, \"./model_scikit/random_forest.joblib\")"
   ]
  },
  {
   "cell_type": "code",
   "execution_count": 6,
   "id": "b067c77c",
   "metadata": {
    "scrolled": true
   },
   "outputs": [
    {
     "data": {
      "image/png": "[encoded data removed]",
      "text/plain": [
       "<Figure size 360x360 with 1 Axes>"
      ]
     },
     "metadata": {
      "needs_background": "light"
     },
     "output_type": "display_data"
    },
    {
     "name": "stdout",
     "output_type": "stream",
     "text": [
      "Test RMSE: 7.24\n",
      "Test MAE: 5.43\n",
      "Test R2: 0.796\n"
     ]
    }
   ],
   "source": [
    "pred_test = model.predict(X_test)\n",
    "\n",
    "plt.figure(figsize=(5,5))\n",
    "plt.scatter(Y_test, pred_test, alpha=0.3) \n",
    "plt.xlabel('Observed') \n",
    "plt.ylabel('Predicted')\n",
    "x = np.arange(0.9*min(Y_test).item(), 1.1*max(Y_test).item(), 0.1)\n",
    "y = x\n",
    "plt.plot(x, y,\"r-\")   \n",
    "plt.grid()\n",
    "plt.show()\n",
    "\n",
    "print(\"Test RMSE: %.2f\" % (np.sqrt(mean_squared_error(Y_test, pred_test))))\n",
    "print(\"Test MAE: %.2f\" % (mean_absolute_error(Y_test, pred_test)))\n",
    "print(\"Test R2: %.3f\" % (r2_score(Y_test, pred_test)))"
   ]
  },
  {
   "cell_type": "code",
   "execution_count": null,
   "id": "b7f45c73",
   "metadata": {},
   "outputs": [],
   "source": []
  }
 ],
 "metadata": {
  "kernelspec": {
   "display_name": "Python 3 (ipykernel)",
   "language": "python",
   "name": "python3"
  },
  "language_info": {
   "codemirror_mode": {
    "name": "ipython",
    "version": 3
   },
   "file_extension": ".py",
   "mimetype": "text/x-python",
   "name": "python",
   "nbconvert_exporter": "python",
   "pygments_lexer": "ipython3",
   "version": "3.7.6"
  }
 },
 "nbformat": 4,
 "nbformat_minor": 5
}
